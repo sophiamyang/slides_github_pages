{
 "cells": [
  {
   "cell_type": "markdown",
   "id": "e9a2a5f7",
   "metadata": {
    "slideshow": {
     "slide_type": "slide"
    }
   },
   "source": [
    "# How to host Jupyter Notebook slides on Github\n",
    "\n",
    "*Minimal effort to make slides and host an html file on Github*\n",
    "\n",
    "Sophia Yang\n",
    "\n",
    "July 18, 2021"
   ]
  },
  {
   "cell_type": "markdown",
   "id": "204d5394",
   "metadata": {
    "slideshow": {
     "slide_type": "slide"
    }
   },
   "source": [
    "There are two parts to this article:\n",
    "1. How to turn your Jupyter Notebooks into a slideshow and output to an html file. \n",
    "2. How to host an html file on Github. "
   ]
  },
  {
   "cell_type": "markdown",
   "id": "a2af347b",
   "metadata": {
    "slideshow": {
     "slide_type": "slide"
    }
   },
   "source": [
    "## Jupyter Notebook slides\n",
    "\n",
    "First, let's create a new enviornment `slideshow`, install a Jupyter notebook extension RISE, and launch Jupyter Notebook:\n",
    "\n",
    "```bash\n",
    "conda create -n slideshow -c conda-forge python=3.9 rise\n",
    "conda activate slideshow\n",
    "jupyter notebook\n",
    "```\n",
    "\n",
    "Then create a Jupyter Notebook file as usual:\n",
    "- Click View-Toolbar-Slideshow to define the slide type for each cell.\n",
    "- RISE creates a button “Enter/Exit Live Reveal Slideshow” in the top right of the toolbar.\n",
    "- Click this tool bar, you will be able to view your notebook as a slideshow. "
   ]
  },
  {
   "cell_type": "markdown",
   "id": "bbe5e70e",
   "metadata": {
    "slideshow": {
     "slide_type": "slide"
    }
   },
   "source": [
    "## Slides to html \n",
    "\n",
    "If you have code cells and would like to show all the code cells, use: \n",
    "\n",
    "```bash\n",
    "jupyter nbconvert github_page_example.ipynb --to slides --stdout > index.html\n",
    "```\n",
    "<br>\n",
    "If you would like to hide all the code cells: \n",
    "\n",
    "```bash\n",
    "jupyter nbconvert github_page_example.ipynb --no-input --no-prompt --to slides --stdout > index.html\n",
    "```\n",
    "<br>\n",
    "If you would like to hide code for certain cells, we can add a tag for those code cells via View - Cell Toolbar - Tags. Here I use the tag \"remove_input\". \n",
    "\n",
    "```bash\n",
    "jupyter nbconvert github_page_example.ipynb --TagRemovePreprocessor.remove_input_tags \"remove_input\" --to slides --stdout > index.html\n",
    "```\n"
   ]
  },
  {
   "cell_type": "markdown",
   "id": "6c320510",
   "metadata": {
    "slideshow": {
     "slide_type": "slide"
    }
   },
   "source": [
    "### Show input cells"
   ]
  },
  {
   "cell_type": "code",
   "execution_count": 1,
   "id": "eb2c0f3f",
   "metadata": {
    "scrolled": true
   },
   "outputs": [
    {
     "data": {
      "text/plain": [
       "2"
      ]
     },
     "execution_count": 1,
     "metadata": {},
     "output_type": "execute_result"
    }
   ],
   "source": [
    "1+1"
   ]
  },
  {
   "cell_type": "markdown",
   "id": "33a41abc",
   "metadata": {
    "slideshow": {
     "slide_type": "slide"
    }
   },
   "source": [
    "### Do not show input cells\n",
    "\n",
    "Add tag \"remove_input\"."
   ]
  },
  {
   "cell_type": "code",
   "execution_count": 2,
   "id": "c72f4bb9",
   "metadata": {
    "tags": [
     "remove_input"
    ]
   },
   "outputs": [
    {
     "data": {
      "text/plain": [
       "4"
      ]
     },
     "execution_count": 2,
     "metadata": {},
     "output_type": "execute_result"
    }
   ],
   "source": [
    "2+2"
   ]
  },
  {
   "cell_type": "markdown",
   "id": "a0454069",
   "metadata": {
    "slideshow": {
     "slide_type": "slide"
    }
   },
   "source": [
    "## Host html file on Github\n",
    "\n",
    "To publish an html file on Github Pages, we need to push to `gh-pages` branch.\n",
    "\n",
    "Create new git repo locally with `gh-pages` branch:\n",
    "\n",
    "```\n",
    "git init\n",
    "git checkout -b gh-pages\n",
    "git add index.html\n",
    "git commit\n",
    "```\n"
   ]
  },
  {
   "cell_type": "markdown",
   "id": "2e5efedd",
   "metadata": {
    "slideshow": {
     "slide_type": "slide"
    }
   },
   "source": [
    "Go to Github and create a new empty repo, and then push our files to the `gh-pages` branch.\n",
    "\n",
    "```\n",
    "git remote add origin git@github.com:YOUR_USER_NAME/YOUR_REPO_NAME.git\n",
    "git branch -M gh-pages\n",
    "git push -u origin gh-pages\n",
    "```\n",
    "\n"
   ]
  },
  {
   "cell_type": "markdown",
   "id": "798b9e12",
   "metadata": {
    "slideshow": {
     "slide_type": "slide"
    }
   },
   "source": [
    "Now you can see this slideshow hosted on a Github page:\n",
    "https://YOUR_USER_NAME.github.io/YOUR_REPO_NAME\n",
    "\n",
    "Check mine out: https://sophiamyang.github.io/slides_github_pages/."
   ]
  },
  {
   "cell_type": "markdown",
   "id": "c66253f7",
   "metadata": {
    "slideshow": {
     "slide_type": "slide"
    }
   },
   "source": [
    "## References\n",
    "\n",
    "https://rise.readthedocs.io/en/stable/\n",
    "\n",
    "https://pages.github.com/"
   ]
  }
 ],
 "metadata": {
  "celltoolbar": "Slideshow",
  "kernelspec": {
   "display_name": "Python 3",
   "language": "python",
   "name": "python3"
  },
  "language_info": {
   "codemirror_mode": {
    "name": "ipython",
    "version": 3
   },
   "file_extension": ".py",
   "mimetype": "text/x-python",
   "name": "python",
   "nbconvert_exporter": "python",
   "pygments_lexer": "ipython3",
   "version": "3.8.5"
  }
 },
 "nbformat": 4,
 "nbformat_minor": 5
}
